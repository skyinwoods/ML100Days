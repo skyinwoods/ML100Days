{
 "cells": [
  {
   "cell_type": "markdown",
   "metadata": {
    "id": "P6xk2_jLsvFF"
   },
   "source": [
    "# [作業目標]\n",
    "\n",
    "1. [簡答題] 請問下列兩種將 Array 轉換成 List 的方式有何不同？\n",
    "\n",
    "```\n",
    "print('list(a): ', list(a))\n",
    "print('tolist(): ', a.tolist())\n",
    "```\n",
    "\n",
    "2. 請試著在程式中印出以下三個 NdArray 的屬性？（屬性：ndim、shape、size、dtype、itemsize、length、type）\n",
    "\n",
    "```\n",
    "a = np.random.randint(10, size=6) \n",
    "b = np.random.randint(10, size=(3,4)) \n",
    "c = np.random.randint(10, size=(2,3,2)) \n",
    "```\n",
    "\n",
    "3. 如何利用 list(...) 實現 a.tolist() 的效果？試著用程式實作。\n"
   ]
  },
  {
   "cell_type": "markdown",
   "metadata": {
    "id": "uXGll28asvFS"
   },
   "source": [
    "# 作業 "
   ]
  },
  {
   "cell_type": "markdown",
   "metadata": {
    "id": "SYkvkp9YLwB7"
   },
   "source": [
    "### 1. [簡答題] 請問下列兩種將 Array 轉換成 List 的方式有何不同？\n",
    "\n",
    "```\n",
    "print('list(a): ', list(a))\n",
    "print('tolist(): ', a.tolist())\n",
    "```\n"
   ]
  },
  {
   "cell_type": "markdown",
   "metadata": {
    "id": "5QrYoyNWsvFS",
    "outputId": "13f374d0-6f1b-47aa-bbac-c7d1a8c6995c"
   },
   "source": [
    "list(a) 會只把第一層轉成 list；但 a.tolist() 會把整串轉成一個 list \n",
    "\n",
    "array([[1,2,3,4],[5,6,7,8],[9,10,11,12]]) \n",
    "\n",
    "list(a) 會變成 [array([1,2,3,4]), array([5,6,7,8]), array([9,10,11,12])]\n",
    "\n",
    "但 tolist 會整串變成一個 list: [[1,2,3,4],[5,6,7,8],[9,10,11,12]]"
   ]
  },
  {
   "cell_type": "markdown",
   "metadata": {
    "id": "AC9wUCyALwB9"
   },
   "source": [
    "### 2. 請試著在程式中印出以下三個 NdArray 的屬性並且解釋結果？（屬性：ndim、shape、size、dtype、itemsize、length、type）\n",
    "\n",
    "```\n",
    "a = np.random.randint(10, size=6) \n",
    "b = np.random.randint(10, size=(3,4)) \n",
    "c = np.random.randint(10, size=(2,3,2)) \n",
    "```"
   ]
  },
  {
   "cell_type": "code",
   "execution_count": 1,
   "metadata": {
    "id": "4qARRsdtLwB-"
   },
   "outputs": [],
   "source": [
    "# 記得先 Import 正確的套件\n",
    "\n",
    "import numpy as np"
   ]
  },
  {
   "cell_type": "code",
   "execution_count": 2,
   "metadata": {
    "id": "e1gVI0tvsvFY",
    "outputId": "9be10770-9042-40c8-c4bc-217b84be9fc9"
   },
   "outputs": [
    {
     "data": {
      "text/plain": [
       "array([1, 0, 0, 3, 8, 4])"
      ]
     },
     "execution_count": 2,
     "metadata": {},
     "output_type": "execute_result"
    }
   ],
   "source": [
    "a = np.random.randint(10, size=6) \n",
    "a"
   ]
  },
  {
   "cell_type": "code",
   "execution_count": 3,
   "metadata": {},
   "outputs": [
    {
     "name": "stdout",
     "output_type": "stream",
     "text": [
      "幾維： 1\n",
      "形狀： (6,)\n",
      "元素數量： 6\n",
      "型別： int64\n",
      "每個元素佔用的空間： 8\n",
      "長度： 6\n",
      "整個 a 的型別： <class 'numpy.ndarray'>\n"
     ]
    }
   ],
   "source": [
    "print('幾維：', a.ndim)\n",
    "print('形狀：', a.shape)\n",
    "print('元素數量：', a.size)\n",
    "print('型別：', a.dtype)\n",
    "print('每個元素佔用的空間：', a.itemsize)\n",
    "print('長度：', len(a))\n",
    "print('整個 a 的型別：',type(a) )"
   ]
  },
  {
   "cell_type": "code",
   "execution_count": 4,
   "metadata": {
    "id": "iIJrIr7kLwB_",
    "outputId": "083c5519-394c-404e-9764-100c4ed5118a"
   },
   "outputs": [
    {
     "name": "stdout",
     "output_type": "stream",
     "text": [
      "幾維： 2\n",
      "形狀： (3, 4)\n",
      "元素數量： 12\n",
      "型別： int64\n",
      "每個元素佔用的空間： 8\n",
      "長度： 3\n",
      "整個 b 的型別： <class 'numpy.ndarray'>\n"
     ]
    }
   ],
   "source": [
    "b = np.random.randint(10, size=(3,4)) \n",
    "b\n",
    "print('幾維：', b.ndim)\n",
    "print('形狀：', b.shape)\n",
    "print('元素數量：', b.size)\n",
    "print('型別：', b.dtype)\n",
    "print('每個元素佔用的空間：', b.itemsize)\n",
    "print('長度：', len(b))\n",
    "print('整個 b 的型別：',type(b) )"
   ]
  },
  {
   "cell_type": "code",
   "execution_count": 5,
   "metadata": {
    "id": "98SRFh_FLwCC",
    "outputId": "dc65dfac-9ae6-49d2-f854-88eccebc2aac"
   },
   "outputs": [
    {
     "name": "stdout",
     "output_type": "stream",
     "text": [
      "幾維： 3\n",
      "形狀： (2, 3, 2)\n",
      "元素數量： 12\n",
      "型別： int64\n",
      "每個元素佔用的空間： 8\n",
      "長度： 2\n",
      "整個 c 的型別： <class 'numpy.ndarray'>\n"
     ]
    }
   ],
   "source": [
    "c = np.random.randint(10, size=(2,3,2)) \n",
    "c\n",
    "print('幾維：', c.ndim)\n",
    "print('形狀：', c.shape)\n",
    "print('元素數量：', c.size)\n",
    "print('型別：', c.dtype)\n",
    "print('每個元素佔用的空間：', c.itemsize)\n",
    "print('長度：', len(c))\n",
    "print('整個 c 的型別：',type(c) )"
   ]
  },
  {
   "cell_type": "markdown",
   "metadata": {
    "id": "Uf6zC0QZLwCE"
   },
   "source": [
    "### 3. 如何利用 list(...) 實現 a.tolist() 的效果？試著用程式實作。\n"
   ]
  },
  {
   "cell_type": "code",
   "execution_count": 6,
   "metadata": {
    "id": "sCUzHu_BLwCF",
    "outputId": "ba9c8945-8efb-42b1-f978-2bbdda97accd"
   },
   "outputs": [
    {
     "data": {
      "text/plain": [
       "array([4, 1, 4, 6, 0, 7])"
      ]
     },
     "execution_count": 6,
     "metadata": {},
     "output_type": "execute_result"
    }
   ],
   "source": [
    "a = np.random.randint(10, size=6) \n",
    "a"
   ]
  },
  {
   "cell_type": "code",
   "execution_count": 10,
   "metadata": {},
   "outputs": [
    {
     "name": "stdout",
     "output_type": "stream",
     "text": [
      "[1, 0, 0, 3, 8, 4]\n"
     ]
    }
   ],
   "source": [
    "# 一維矩陣 a，兩者無差別\n",
    "print(list(a))"
   ]
  },
  {
   "cell_type": "code",
   "execution_count": 12,
   "metadata": {},
   "outputs": [
    {
     "name": "stdout",
     "output_type": "stream",
     "text": [
      "[1, 0, 0, 3, 8, 4]\n"
     ]
    }
   ],
   "source": [
    "print(a.tolist())"
   ]
  },
  {
   "cell_type": "code",
   "execution_count": 13,
   "metadata": {
    "id": "IUkVtw8RLwCG",
    "outputId": "e39875a5-5ec7-431b-c12a-485acc167e44"
   },
   "outputs": [
    {
     "data": {
      "text/plain": [
       "array([[2, 5, 4, 7],\n",
       "       [8, 7, 3, 9],\n",
       "       [8, 5, 1, 0]])"
      ]
     },
     "execution_count": 13,
     "metadata": {},
     "output_type": "execute_result"
    }
   ],
   "source": [
    "#二維矩陣 b\n",
    "b = np.random.randint(10, size=(3,4)) \n",
    "b"
   ]
  },
  {
   "cell_type": "code",
   "execution_count": 38,
   "metadata": {},
   "outputs": [
    {
     "data": {
      "text/plain": [
       "numpy.ndarray"
      ]
     },
     "execution_count": 38,
     "metadata": {},
     "output_type": "execute_result"
    }
   ],
   "source": [
    "type(b)"
   ]
  },
  {
   "cell_type": "code",
   "execution_count": 14,
   "metadata": {},
   "outputs": [
    {
     "name": "stdout",
     "output_type": "stream",
     "text": [
      "[[2, 5, 4, 7], [8, 7, 3, 9], [8, 5, 1, 0]]\n"
     ]
    }
   ],
   "source": [
    "print(b.tolist())\n",
    "print(list(b))"
   ]
  },
  {
   "cell_type": "code",
   "execution_count": 29,
   "metadata": {},
   "outputs": [],
   "source": [
    "#用一個 for 迴圈把 b 一層層轉 list, 再放回新的 list\n",
    "listed_b = list(b)\n",
    "new_b = []\n",
    "for i in listed_b:\n",
    "    new_b.append(list(i))"
   ]
  },
  {
   "cell_type": "code",
   "execution_count": 31,
   "metadata": {},
   "outputs": [
    {
     "data": {
      "text/plain": [
       "[[2, 5, 4, 7], [8, 7, 3, 9], [8, 5, 1, 0]]"
      ]
     },
     "execution_count": 31,
     "metadata": {},
     "output_type": "execute_result"
    }
   ],
   "source": [
    "new_b"
   ]
  },
  {
   "cell_type": "code",
   "execution_count": 37,
   "metadata": {},
   "outputs": [
    {
     "data": {
      "text/plain": [
       "list"
      ]
     },
     "execution_count": 37,
     "metadata": {},
     "output_type": "execute_result"
    }
   ],
   "source": [
    "type(listed_b )"
   ]
  },
  {
   "cell_type": "code",
   "execution_count": 32,
   "metadata": {
    "id": "NPhF8_CqLwCG",
    "outputId": "51fab908-5bfd-415f-9584-92bb376648c8"
   },
   "outputs": [
    {
     "name": "stdout",
     "output_type": "stream",
     "text": [
      "[[[3, 2], [6, 5], [3, 1]], [[1, 7], [5, 8], [9, 8]]]\n",
      "[array([[3, 2],\n",
      "       [6, 5],\n",
      "       [3, 1]]), array([[1, 7],\n",
      "       [5, 8],\n",
      "       [9, 8]])]\n"
     ]
    }
   ],
   "source": [
    "# 三維矩陣 c\n",
    "c = np.random.randint(10, size=(2,3,2)) \n",
    "\n",
    "print(c.tolist())\n",
    "print(list(c))\n"
   ]
  },
  {
   "cell_type": "code",
   "execution_count": 34,
   "metadata": {},
   "outputs": [],
   "source": [
    "listed_c = list(c)\n",
    "new_c = []\n",
    "for i in listed_c:\n",
    "    new_c.append(list(i))"
   ]
  },
  {
   "cell_type": "code",
   "execution_count": 35,
   "metadata": {},
   "outputs": [
    {
     "data": {
      "text/plain": [
       "[[array([3, 2]), array([6, 5]), array([3, 1])],\n",
       " [array([1, 7]), array([5, 8]), array([9, 8])]]"
      ]
     },
     "execution_count": 35,
     "metadata": {},
     "output_type": "execute_result"
    }
   ],
   "source": [
    "new_c"
   ]
  },
  {
   "cell_type": "code",
   "execution_count": 57,
   "metadata": {},
   "outputs": [
    {
     "data": {
      "text/plain": [
       "numpy.ndarray"
      ]
     },
     "execution_count": 57,
     "metadata": {},
     "output_type": "execute_result"
    }
   ],
   "source": [
    "type(listed_c[1])"
   ]
  },
  {
   "cell_type": "code",
   "execution_count": 61,
   "metadata": {
    "id": "3Hc8vQYtLwCH",
    "outputId": "1290bc93-84ca-4da4-eb1a-315da37afaff"
   },
   "outputs": [
    {
     "name": "stdout",
     "output_type": "stream",
     "text": [
      "[1, 0, 0, 3, 8, 4]\n",
      "[[2, 5, 4, 7], [8, 7, 3, 9], [8, 5, 1, 0]]\n"
     ]
    }
   ],
   "source": [
    "def tolist(iterable):\n",
    "    if type(iterable) != np.ndarray:\n",
    "        return iterable\n",
    "    new_list = []\n",
    "    for i in iterable:\n",
    "        new_list.append(tolist(i))\n",
    "    return new_list\n",
    "\n",
    "print(tolist(a))\n",
    "print(tolist(b))\n",
    "# print(tolist(c))"
   ]
  },
  {
   "cell_type": "markdown",
   "metadata": {
    "id": "640whg6NLwCK"
   },
   "source": [
    "觀察不同層的 type，一個個元素提出來看他的型別做成迴圈\n",
    "\n",
    "list 會常常遇到的問題：list is not callable\n",
    "\n",
    "解決問題\n",
    "\n",
    "(1) (( )) 改成 ([ ])\n",
    "\n",
    "(2) 可能有重複命名到 -> 這次就是原本的第一個我只用註解掉沒有用 markdown"
   ]
  },
  {
   "cell_type": "code",
   "execution_count": null,
   "metadata": {},
   "outputs": [],
   "source": []
  }
 ],
 "metadata": {
  "colab": {
   "name": "01Homework_維元.ipynb",
   "provenance": []
  },
  "kernelspec": {
   "display_name": "Python 3",
   "language": "python",
   "name": "python3"
  },
  "language_info": {
   "codemirror_mode": {
    "name": "ipython",
    "version": 3
   },
   "file_extension": ".py",
   "mimetype": "text/x-python",
   "name": "python",
   "nbconvert_exporter": "python",
   "pygments_lexer": "ipython3",
   "version": "3.7.6"
  }
 },
 "nbformat": 4,
 "nbformat_minor": 1
}
